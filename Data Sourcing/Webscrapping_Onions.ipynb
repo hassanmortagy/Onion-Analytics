{
 "cells": [
  {
   "cell_type": "markdown",
   "metadata": {},
   "source": [
    "# BA PROJECT\n",
    "# ONION ANALYTICS\n",
    "## WEBSCRAPPING OF ONION PRICE DATA\n",
    "### Mexico Government\n",
    "#### Change the dates directly in the long row. Careful to choose enough rows per page so it fits in only one and it can be easily webscrapped"
   ]
  },
  {
   "cell_type": "code",
   "execution_count": 2,
   "metadata": {
    "collapsed": false
   },
   "outputs": [],
   "source": [
    "import requests \n",
    "from bs4 import BeautifulSoup\n",
    "import csv\n",
    "\n",
    "#read website with all rows (almost 5000)\n",
    "response = requests.get(\"http://www.economia-sniim.gob.mx/NUEVO/Consultas/MercadosNacionales/PreciosDeMercado/Agricolas/ResultadosConsultaFechaFrutasYHortalizas.aspx?fechaInicio=01/01/2017&fechaFinal=28/01/2017&ProductoId=183&OrigenId=-1&Origen=Todos&DestinoId=-1&Destino=Todos&PreciosPorId=2&RegistrosPorPagina=20000\")\n",
    "\n",
    "#parse with beautiful soup\n",
    "soup = BeautifulSoup(response.content, 'html.parser')\n",
    "\n",
    "#include in a list (first row to take:22)\n",
    "#can also be done i a dictionary or dataframe\n",
    "l = []\n",
    "count = 0\n",
    "for tr in soup.findAll('tr'):\n",
    "    count += 1\n",
    "    if (count > 21):\n",
    "        for td in tr.findAll('td'):\n",
    "            l.append(td.get_text())\n",
    "\n",
    "#transform to a proper list of lists\n",
    "dataset = []\n",
    "for i in range(1,len(l),8):\n",
    "    k = [l[i],l[i+2],l[i+3],l[i+4],l[i+5],l[i+6]]\n",
    "    dataset.append(k)\n",
    "    \n",
    "#titles\n",
    "titles = ['Date','Origin','Destiny','MinPrice','MaxPrice','MeanPrice']\n",
    "\n",
    "#write to a csv\n",
    "with open('DataBAOnions.csv','w') as fp:\n",
    "    datawriter = csv.writer(fp, delimiter = ',')\n",
    "    datawriter.writerow(titles)\n",
    "    for i in range(1,len(dataset)):\n",
    "        datawriter.writerow(dataset[i])\n",
    "        \n",
    "#import pandas\n",
    "#my_df = pd.DataFrame(columns=['Date','Origin','Destiny','MinPrice','MeanPrice','MaxPrice'])\n",
    "#for i in range(1,len(l),8):\n",
    "#    my_df.loc[i]=[l[i],l[i+2],l[i+3],l[i+4],l[i+5],l[i+6]]\n",
    "# my_df.to_csv('/Users/RamonRodriganez/Escritorio',sep=',')"
   ]
  }
 ],
 "metadata": {
  "anaconda-cloud": {},
  "kernelspec": {
   "display_name": "Python [Root]",
   "language": "python",
   "name": "Python [Root]"
  },
  "language_info": {
   "codemirror_mode": {
    "name": "ipython",
    "version": 3
   },
   "file_extension": ".py",
   "mimetype": "text/x-python",
   "name": "python",
   "nbconvert_exporter": "python",
   "pygments_lexer": "ipython3",
   "version": "3.5.2"
  }
 },
 "nbformat": 4,
 "nbformat_minor": 0
}
